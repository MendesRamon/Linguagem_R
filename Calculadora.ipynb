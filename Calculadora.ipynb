{
  "nbformat": 4,
  "nbformat_minor": 0,
  "metadata": {
    "colab": {
      "private_outputs": true,
      "provenance": [],
      "authorship_tag": "ABX9TyNzGkljAB/87OEZBIZcjt+Q",
      "include_colab_link": true
    },
    "kernelspec": {
      "name": "python3",
      "display_name": "Python 3"
    },
    "language_info": {
      "name": "python"
    }
  },
  "cells": [
    {
      "cell_type": "markdown",
      "metadata": {
        "id": "view-in-github",
        "colab_type": "text"
      },
      "source": [
        "<a href=\"https://colab.research.google.com/github/MendesRamon/Linguagem_R/blob/main/Calculadora.ipynb\" target=\"_parent\"><img src=\"https://colab.research.google.com/assets/colab-badge.svg\" alt=\"Open In Colab\"/></a>"
      ]
    },
    {
      "cell_type": "markdown",
      "source": [
        "# CALCULADORA"
      ],
      "metadata": {
        "id": "8k6fMrcvEkmq"
      }
    },
    {
      "cell_type": "code",
      "source": [
        "print(\"Calculadora\")\n",
        "print(\"-----------\")\n",
        "\n",
        "dict = { \"soma\":0, \"Subtração\":1, \"Divisão\":2, \"Multiplicação\": 3}"
      ],
      "metadata": {
        "id": "kwiDU5kFD155"
      },
      "execution_count": null,
      "outputs": []
    },
    {
      "cell_type": "code",
      "source": [
        "dict[\"soma\"]"
      ],
      "metadata": {
        "id": "r3NKHMBVE0yS"
      },
      "execution_count": null,
      "outputs": []
    },
    {
      "cell_type": "code",
      "source": [
        "dict.keys()"
      ],
      "metadata": {
        "id": "SyIkf8njJQpw"
      },
      "execution_count": null,
      "outputs": []
    },
    {
      "cell_type": "code",
      "source": [
        "dict.values()"
      ],
      "metadata": {
        "id": "-n85IrZ3JTOk"
      },
      "execution_count": null,
      "outputs": []
    },
    {
      "cell_type": "code",
      "source": [
        "dict.items()"
      ],
      "metadata": {
        "id": "ULb-0NcIJXKM"
      },
      "execution_count": null,
      "outputs": []
    },
    {
      "cell_type": "code",
      "source": [
        "#CALCULADORA\n",
        "print(\"Calculadora\")\n",
        "print(\"-----------\")\n",
        "#print(\"\")\n",
        "\n",
        "dict = { \"soma\":0, \"Subtração\":1, \"Divisão\":2}\n",
        "print(\"Informe a operação\")\n",
        "\n",
        "D = input()\n",
        "\n",
        "print(\"Valor 1\")\n",
        "Vlr1= input()\n",
        "\n",
        "print(\"Valor 2\")\n",
        "Vlr2 = input()\n",
        "\n",
        "\n",
        "if int(D) == 0:\n",
        "    print(int(Vlr1) + int(Vlr2))\n",
        "elif int(D) == 1:\n",
        "    print(int(Vlr1) - int(Vlr2))\n",
        "elif int(D) == 2:\n",
        "    print(int(Vlr1) / int(Vlr2))\n",
        "elif int(D) == 3:\n",
        "    print(int(Vlr1) * int(Vlr2))\n",
        "else:\n",
        "    print(\"Informe de 0 à 3\")"
      ],
      "metadata": {
        "id": "_hyUPwPzJ2tG"
      },
      "execution_count": null,
      "outputs": []
    }
  ]
}